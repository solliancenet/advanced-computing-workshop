{
  "cells": [
    {
      "cell_type": "markdown",
      "source": [
        "## Install required libraries\r\n",
        "\r\n",
        "- `azure-identity`: Azure Active Directory identity client library\r\n",
        "- `azure.mgmt.confidentialledger`: Azure confidential ledger control plane client library\r\n",
        "- `azure.confidentialledger`:  Azure confidential ledger data plane client library"
      ],
      "metadata": {
        "nteract": {
          "transient": {
            "deleting": false
          }
        }
      }
    },
    {
      "cell_type": "code",
      "source": [
        "!pip install azure-identity azure.mgmt.confidentialledger azure.confidentialledger "
      ],
      "outputs": [],
      "execution_count": null,
      "metadata": {}
    },
    {
      "cell_type": "markdown",
      "source": [
        "## Initialize\r\n",
        "\r\n",
        "Import the required libraries."
      ],
      "metadata": {
        "nteract": {
          "transient": {
            "deleting": false
          }
        }
      }
    },
    {
      "cell_type": "code",
      "source": [
        "# Import the Azure authentication library\r\n",
        "\r\n",
        "from azure.identity import DefaultAzureCredential, ManagedIdentityCredential, AzureCliCredential, DeviceCodeCredential\r\n",
        "\r\n",
        "## Import the control plane sdk\r\n",
        "\r\n",
        "from azure.mgmt.confidentialledger import ConfidentialLedger as ConfidentialLedgerAPI\r\n",
        "from azure.mgmt.confidentialledger.models import ConfidentialLedger\r\n",
        "\r\n",
        "# import the data plane sdk\r\n",
        "\r\n",
        "from azure.confidentialledger import ConfidentialLedgerClient\r\n",
        "from azure.confidentialledger.certificate import ConfidentialLedgerCertificateClient"
      ],
      "outputs": [],
      "execution_count": null,
      "metadata": {
        "jupyter": {
          "source_hidden": false,
          "outputs_hidden": false
        },
        "nteract": {
          "transient": {
            "deleting": false
          }
        },
        "gather": {
          "logged": 1670608627294
        }
      }
    },
    {
      "cell_type": "markdown",
      "source": [
        "We'll finish setup by setting some variables for use in your application: the resource group, the name of ledger you want to create, and two urls to be used by the data plane client library."
      ],
      "metadata": {
        "nteract": {
          "transient": {
            "deleting": false
          }
        }
      }
    },
    {
      "cell_type": "code",
      "source": [
        "resource_group = \"azureailab31\"\r\n",
        "ledger_name = \"azureailab31\"\r\n",
        "subscription_id = \"82ed3e67-3850-491b-a098-cdca6aa71f3f\"\r\n",
        "\r\n",
        "identity_url = \"https://identity.confidential-ledger.core.azure.com\"\r\n",
        "ledger_url = \"https://\" + ledger_name + \".confidential-ledger.azure.com\""
      ],
      "outputs": [],
      "execution_count": null,
      "metadata": {
        "jupyter": {
          "source_hidden": false,
          "outputs_hidden": false
        },
        "nteract": {
          "transient": {
            "deleting": false
          }
        },
        "gather": {
          "logged": 1670597150946
        }
      }
    },
    {
      "cell_type": "code",
      "source": [
        "credential = DefaultAzureCredential()"
      ],
      "outputs": [],
      "execution_count": null,
      "metadata": {
        "jupyter": {
          "source_hidden": false,
          "outputs_hidden": false
        },
        "nteract": {
          "transient": {
            "deleting": false
          }
        },
        "gather": {
          "logged": 1670597180671
        }
      }
    },
    {
      "cell_type": "markdown",
      "source": [
        "## Use the control plane library\r\n",
        "\r\n",
        "The control plane client library (azure.mgmt.confidentialledger) allows operations on ledgers, such as creation, modification, and deletion, listing the ledgers associated with a subscription, and getting the details of a specific ledger.\r\n",
        "\r\n",
        "In our code, we will first create a control plane client by passing the ConfidentialLedgerAPI the credential variable and your Azure subscription ID (both of which are set above)."
      ],
      "metadata": {
        "nteract": {
          "transient": {
            "deleting": false
          }
        }
      }
    },
    {
      "cell_type": "code",
      "source": [
        "confidential_ledger_mgmt = ConfidentialLedgerAPI(\r\n",
        "    credential, subscription_id\r\n",
        ")"
      ],
      "outputs": [],
      "execution_count": null,
      "metadata": {
        "jupyter": {
          "source_hidden": false,
          "outputs_hidden": false
        },
        "nteract": {
          "transient": {
            "deleting": false
          }
        },
        "gather": {
          "logged": 1670597185596
        }
      }
    },
    {
      "cell_type": "markdown",
      "source": [
        "We can now create a ledger using `begin_create`. The `begin_create` function requires three parameters: your resource group, a name for the ledger, and a \"properties\" object.\r\n",
        "\r\n",
        "Create a properties dictionary with the following keys and values, and assign it to a variable."
      ],
      "metadata": {
        "nteract": {
          "transient": {
            "deleting": false
          }
        }
      }
    },
    {
      "cell_type": "code",
      "source": [
        "properties = {\r\n",
        "    \"location\": \"eastus\",\r\n",
        "    \"tags\": {},\r\n",
        "    \"properties\": {\r\n",
        "        \"ledgerType\": \"Public\",\r\n",
        "        \"aadBasedSecurityPrincipals\": [],\r\n",
        "    },\r\n",
        "}\r\n",
        "\r\n",
        "ledger_properties = ConfidentialLedger(**properties)"
      ],
      "outputs": [],
      "execution_count": null,
      "metadata": {
        "jupyter": {
          "source_hidden": false,
          "outputs_hidden": false
        },
        "nteract": {
          "transient": {
            "deleting": false
          }
        },
        "gather": {
          "logged": 1670597193608
        }
      }
    },
    {
      "cell_type": "markdown",
      "source": [
        "Now pass the resource group, the name of your ledger, and the properties object to `begin_create`."
      ],
      "metadata": {
        "nteract": {
          "transient": {
            "deleting": false
          }
        }
      }
    },
    {
      "cell_type": "code",
      "source": [
        "confidential_ledger_mgmt.ledger.begin_create(resource_group, ledger_name, ledger_properties)"
      ],
      "outputs": [],
      "execution_count": null,
      "metadata": {
        "jupyter": {
          "source_hidden": false,
          "outputs_hidden": false
        },
        "nteract": {
          "transient": {
            "deleting": false
          }
        },
        "gather": {
          "logged": 1670597199840
        }
      }
    },
    {
      "cell_type": "markdown",
      "source": [
        "To verify that your ledger was successfully created, view its details using the `get` function."
      ],
      "metadata": {
        "nteract": {
          "transient": {
            "deleting": false
          }
        }
      }
    },
    {
      "cell_type": "code",
      "source": [
        "myledger = confidential_ledger_mgmt.ledger.get(resource_group, ledger_name)\r\n",
        "\r\n",
        "print(\"Here are the details of your newly created ledger:\")\r\n",
        "print (f\"- Name: {myledger.name}\")\r\n",
        "print (f\"- Location: {myledger.location}\")\r\n",
        "print (f\"- ID: {myledger.id}\")"
      ],
      "outputs": [],
      "execution_count": null,
      "metadata": {
        "jupyter": {
          "source_hidden": false,
          "outputs_hidden": false
        },
        "nteract": {
          "transient": {
            "deleting": false
          }
        },
        "gather": {
          "logged": 1670597358128
        }
      }
    },
    {
      "cell_type": "markdown",
      "source": [
        "Check some additional properties of the ledger."
      ],
      "metadata": {
        "nteract": {
          "transient": {
            "deleting": false
          }
        }
      }
    },
    {
      "cell_type": "code",
      "source": [
        "print(myledger.properties)"
      ],
      "outputs": [],
      "execution_count": null,
      "metadata": {
        "jupyter": {
          "source_hidden": false,
          "outputs_hidden": false
        },
        "nteract": {
          "transient": {
            "deleting": false
          }
        },
        "gather": {
          "logged": 1670597362325
        }
      }
    },
    {
      "cell_type": "markdown",
      "source": [
        "### Exercise:\r\n",
        "\r\n",
        "Open the Azure portal, locate the Azure item of type `Confidential Ledger` and explore its properties.\r\n",
        "\r\n",
        "Refresh periodically the `Overview` section until the `Identity Service Endpoint` and `Ledger Endpoint` values are populated (i.e., they are different from `--`).\r\n",
        "\r\n",
        ">**NOTE**:\r\n",
        ">\r\n",
        ">You need to wait until these values are populated, which means the Confidential Ledger instance has been properly initialized. Advancing in the notebook before this process is complete will most likely result in errors being thrown by subsequent cells.\r\n"
      ],
      "metadata": {
        "nteract": {
          "transient": {
            "deleting": false
          }
        }
      }
    },
    {
      "cell_type": "markdown",
      "source": [
        "## Use the data plane client library"
      ],
      "metadata": {
        "nteract": {
          "transient": {
            "deleting": false
          }
        }
      }
    },
    {
      "cell_type": "markdown",
      "source": [
        "Now that we have a ledger, we'll interact with it using the data plane client library (azure.confidentialledger).\r\n",
        "\r\n",
        "First, we will generate and save a confidential ledger certificate."
      ],
      "metadata": {
        "nteract": {
          "transient": {
            "deleting": false
          }
        }
      }
    },
    {
      "cell_type": "code",
      "source": [
        "identity_client = ConfidentialLedgerCertificateClient(identity_url)\r\n",
        "network_identity = identity_client.get_ledger_identity(\r\n",
        "     ledger_id=ledger_name\r\n",
        ")\r\n",
        "\r\n",
        "ledger_tls_cert_file_name = \"networkcert.pem\"\r\n",
        "with open(ledger_tls_cert_file_name, \"w\") as cert_file:\r\n",
        "    cert_file.write(network_identity['ledgerTlsCertificate'])"
      ],
      "outputs": [],
      "execution_count": null,
      "metadata": {
        "jupyter": {
          "source_hidden": false,
          "outputs_hidden": false
        },
        "nteract": {
          "transient": {
            "deleting": false
          }
        },
        "gather": {
          "logged": 1670597481641
        }
      }
    },
    {
      "cell_type": "markdown",
      "source": [
        "Now we can use the network certificate, along with the ledger URL and our credentials, to create a confidential ledger client."
      ],
      "metadata": {
        "nteract": {
          "transient": {
            "deleting": false
          }
        }
      }
    },
    {
      "cell_type": "code",
      "source": [
        "credential = DeviceCodeCredential()\r\n",
        "\r\n",
        "ledger_client = ConfidentialLedgerClient(\r\n",
        "     endpoint=ledger_url, \r\n",
        "     credential=credential,\r\n",
        "     ledger_certificate_path=ledger_tls_cert_file_name\r\n",
        ")"
      ],
      "outputs": [],
      "execution_count": null,
      "metadata": {
        "jupyter": {
          "source_hidden": false,
          "outputs_hidden": false
        },
        "nteract": {
          "transient": {
            "deleting": false
          }
        },
        "gather": {
          "logged": 1670608683971
        }
      }
    },
    {
      "cell_type": "markdown",
      "source": [
        "We are prepared to write to the ledger. We will do so using the `create_ledger_entry` function.\r\n",
        "\r\n",
        "The print function will return the transaction ID of your write to the ledger, which can be used to retrieve the message you wrote to the ledger."
      ],
      "metadata": {
        "nteract": {
          "transient": {
            "deleting": false
          }
        }
      }
    },
    {
      "cell_type": "code",
      "source": [
        "sample_entry = {\"contents\": \"Hellow immutable, blockchain-based world!\"}\r\n",
        "append_result = ledger_client.create_ledger_entry(entry=sample_entry)\r\n",
        "print(f'Transaction id: {append_result[\"transactionId\"]}')"
      ],
      "outputs": [],
      "execution_count": null,
      "metadata": {
        "jupyter": {
          "source_hidden": false,
          "outputs_hidden": false
        },
        "nteract": {
          "transient": {
            "deleting": false
          }
        },
        "gather": {
          "logged": 1670609250578
        }
      }
    },
    {
      "cell_type": "markdown",
      "source": [
        "Get the details of the ledger transaction based on the transaction id."
      ],
      "metadata": {
        "nteract": {
          "transient": {
            "deleting": false
          }
        }
      }
    },
    {
      "cell_type": "code",
      "source": [
        "entry = ledger_client.get_ledger_entry(transaction_id=append_result['transactionId'])['entry']\r\n",
        "print(f\"Entry (transaction id = {entry['transactionId']}) in collection {entry['collectionId']}: {entry['contents']}\")"
      ],
      "outputs": [],
      "execution_count": null,
      "metadata": {
        "jupyter": {
          "source_hidden": false,
          "outputs_hidden": false
        },
        "nteract": {
          "transient": {
            "deleting": false
          }
        },
        "gather": {
          "logged": 1670609802772
        }
      }
    },
    {
      "cell_type": "markdown",
      "source": [
        "Get the details of the last transaction from the ledger."
      ],
      "metadata": {
        "nteract": {
          "transient": {
            "deleting": false
          }
        }
      }
    },
    {
      "cell_type": "code",
      "source": [
        "latest_entry = ledger_client.get_current_ledger_entry()\r\n",
        "print(f\"Current entry (transaction id = {latest_entry['transactionId']}) in collection {latest_entry['collectionId']}: {latest_entry['contents']}\")"
      ],
      "outputs": [],
      "execution_count": null,
      "metadata": {
        "jupyter": {
          "source_hidden": false,
          "outputs_hidden": false
        },
        "nteract": {
          "transient": {
            "deleting": false
          }
        },
        "gather": {
          "logged": 1670610007347
        }
      }
    },
    {
      "cell_type": "markdown",
      "source": [
        "## Using the polling pattern"
      ],
      "metadata": {
        "nteract": {
          "transient": {
            "deleting": false
          }
        }
      }
    },
    {
      "cell_type": "markdown",
      "source": [
        "If you'd like to wait for your write transaction to be committed to your ledger, you can use the `begin_create_ledger_entry` function. This will return a poller to wait until the entry is durably committed."
      ],
      "metadata": {
        "nteract": {
          "transient": {
            "deleting": false
          }
        }
      }
    },
    {
      "cell_type": "code",
      "source": [
        "sample_entry = {\"contents\": \"Hellow immutable, blockchain-based world! Again!\"}\r\n",
        "ledger_entry_poller = ledger_client.begin_create_ledger_entry( \r\n",
        "    entry=sample_entry\r\n",
        ")\r\n",
        "ledger_entry_result = ledger_entry_poller.result()\r\n",
        "ledger_entry_result"
      ],
      "outputs": [],
      "execution_count": null,
      "metadata": {
        "jupyter": {
          "source_hidden": false,
          "outputs_hidden": false
        },
        "nteract": {
          "transient": {
            "deleting": false
          }
        },
        "gather": {
          "logged": 1670610160332
        }
      }
    },
    {
      "cell_type": "markdown",
      "source": [
        "## Analyzing transaction receipts"
      ],
      "metadata": {
        "nteract": {
          "transient": {
            "deleting": false
          }
        }
      }
    },
    {
      "cell_type": "markdown",
      "source": [
        "Get the transaction receipt based on the transaction id."
      ],
      "metadata": {
        "nteract": {
          "transient": {
            "deleting": false
          }
        }
      }
    },
    {
      "cell_type": "code",
      "source": [
        "get_receipt_poller = ledger_client.begin_get_receipt(ledger_entry_result[\"transactionId\"])\r\n",
        "get_receipt_result = get_receipt_poller.result() \r\n",
        "get_receipt_result"
      ],
      "outputs": [],
      "execution_count": null,
      "metadata": {
        "jupyter": {
          "source_hidden": false,
          "outputs_hidden": false
        },
        "nteract": {
          "transient": {
            "deleting": false
          }
        },
        "gather": {
          "logged": 1670610363593
        }
      }
    },
    {
      "cell_type": "markdown",
      "source": [
        "The JSON response contains the following fields at the root level.\r\n",
        "\r\n",
        "- **receipt**: It contains the values that can be used to verify the validity of the receipt for the corresponding write transaction.\r\n",
        "- **state**: The status of the returned JSON response. The following are the possible values allowed:\r\n",
        "    - Ready: The receipt returned in the response is available\r\n",
        "    - Loading: The receipt isn't yet available to be retrieved and the request will have to be retried\r\n",
        "- **transactionId**: The transaction ID associated with the write transaction receipt.\r\n",
        "\r\n",
        "The receipt field contains the following fields.\r\n",
        "\r\n",
        "- **cert**: String with the [PEM](https://en.wikipedia.org/wiki/Privacy-Enhanced_Mail) public key certificate of the Confidential Consortium Framework (CCF) node that signed the write transaction. The certificate of the signing node should always be endorsed by the service identity certificate. See also more details about how transactions get regularly signed and how the signature transactions are appended to the ledger in CCF at the following [link](https://microsoft.github.io/CCF/main/architecture/merkle_tree.html).\r\n",
        "\r\n",
        "- **is_signature_transaction**: Boolean value indicating whether the receipt is related to a signature transaction or not. Receipts for signature transactions can't be retrieved for Confidential Ledgers.\r\n",
        "\r\n",
        "- **node_id**: Hexadecimal string representing the [SHA-256](https://en.wikipedia.org/wiki/SHA-2) hash digest of the public key of the signing CCF node.\r\n",
        "\r\n",
        "- **leaf_components**: The components of the leaf node hash in the [Merkle Tree](https://en.wikipedia.org/wiki/Merkle_tree) that are associated to the specified transaction. A Merkle Tree is a tree data structure that records the hash of every transaction and guarantees the integrity of the ledger. For more information on how a Merkle Tree is used in CCF, see the related [CCF documentation](https://microsoft.github.io/CCF/main/architecture/merkle_tree.html).\r\n",
        "\r\n",
        "- **proof**: List of key-value pairs representing the Merkle Tree nodes hashes that, when combined with the leaf node hash corresponding to the given transaction, allow the recomputation of the root hash of the tree. Thanks to the properties of a Merkle Tree, it's possible to recompute the root hash of the tree only a subset of nodes. The elements in this list are in the form of key-value pairs: keys indicate the relative position with respect to the parent node in the tree at a certain level; values are the SHA-256 hash digests of the node given, as hexadecimal strings.\r\n",
        "\r\n",
        "- **service_endorsements**: List of PEM-encoded certificates strings representing previous service identities certificates. It's possible that the service identity that endorsed the signing node isn't the same as the one that issued the receipt. For example, the service certificate is renewed after a disaster recovery of a Confidential Ledger. The list of past service certificates allows auditors to build the chain of trust from the CCF signing node to the current service certificate.\r\n",
        "\r\n",
        "- **signature**: Base64 string representing the signature of the root of the Merkle Tree at the given transaction, by the signing CCF node.\r\n",
        "\r\n",
        "The leaf_components field contains the following fields.\r\n",
        "\r\n",
        "- **claims_digest**: Hexadecimal string representing the SHA-256 hash digest of the [application claim](https://microsoft.github.io/CCF/main/use_apps/verify_tx.html#application-claims) attached by the Confidential Ledger application at the time the transaction was executed. Application claims are currently unsupported as the Confidential Ledger application doesn't attach any claim when executing a write transaction.\r\n",
        "\r\n",
        "- **commit_evidence**: A unique string produced per transaction, derived from the transaction ID and the ledger secrets. For more information about the commit evidence, see the related [CCF documentation](https://microsoft.github.io/CCF/main/use_apps/verify_tx.html#commit-evidence).\r\n",
        "\r\n",
        "- **write_set_digest**: Hexadecimal string representing the SHA-256 hash digest of the [Key-Value store](https://microsoft.github.io/CCF/main/build_apps/kv/index.html), which contains all the keys and values written at the time the transaction was completed. For more information about the write set, see the related [CCF documentation](https://microsoft.github.io/CCF/main/use_apps/verify_tx.html#commit-evidence)."
      ],
      "metadata": {
        "nteract": {
          "transient": {
            "deleting": false
          }
        }
      }
    }
  ],
  "metadata": {
    "language_info": {
      "name": "python",
      "version": "3.8.5",
      "mimetype": "text/x-python",
      "codemirror_mode": {
        "name": "ipython",
        "version": 3
      },
      "pygments_lexer": "ipython3",
      "nbconvert_exporter": "python",
      "file_extension": ".py"
    },
    "orig_nbformat": 4,
    "kernelspec": {
      "name": "python38-azureml",
      "language": "python",
      "display_name": "Python 3.8 - AzureML"
    },
    "kernel_info": {
      "name": "python38-azureml"
    },
    "microsoft": {
      "host": {
        "AzureML": {
          "notebookHasBeenCompleted": true
        }
      }
    },
    "nteract": {
      "version": "nteract-front-end@1.0.0"
    }
  },
  "nbformat": 4,
  "nbformat_minor": 2
}