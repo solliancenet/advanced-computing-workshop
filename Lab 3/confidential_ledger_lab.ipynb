{
  "cells": [
    {
      "cell_type": "markdown",
      "source": [
        "## Install required libraries\r\n",
        "\r\n",
        "- `azure-identity`: Azure Active Directory identity client library\r\n",
        "- `azure.mgmt.confidentialledger`: Azure confidential ledger control plane client library\r\n",
        "- `azure.confidentialledger`:  Azure confidential ledger data plane client library"
      ],
      "metadata": {
        "nteract": {
          "transient": {
            "deleting": false
          }
        }
      }
    },
    {
      "cell_type": "code",
      "source": [
        "!pip install azure-identity azure.mgmt.confidentialledger azure.confidentialledger "
      ],
      "outputs": [],
      "execution_count": null,
      "metadata": {}
    },
    {
      "cell_type": "markdown",
      "source": [
        "## Initialize\r\n",
        "\r\n",
        "Import the required libraries."
      ],
      "metadata": {
        "nteract": {
          "transient": {
            "deleting": false
          }
        }
      }
    },
    {
      "cell_type": "code",
      "source": [
        "# Import the Azure authentication library\r\n",
        "\r\n",
        "from azure.identity import DefaultAzureCredential, ManagedIdentityCredential, AzureCliCredential \r\n",
        "\r\n",
        "## Import the control plane sdk\r\n",
        "\r\n",
        "from azure.mgmt.confidentialledger import ConfidentialLedger as ConfidentialLedgerAPI\r\n",
        "from azure.mgmt.confidentialledger.models import ConfidentialLedger\r\n",
        "\r\n",
        "# import the data plane sdk\r\n",
        "\r\n",
        "from azure.confidentialledger import ConfidentialLedgerClient\r\n",
        "from azure.confidentialledger.certificate import ConfidentialLedgerCertificateClient"
      ],
      "outputs": [],
      "execution_count": null,
      "metadata": {
        "jupyter": {
          "source_hidden": false,
          "outputs_hidden": false
        },
        "nteract": {
          "transient": {
            "deleting": false
          }
        },
        "gather": {
          "logged": 1670578006995
        }
      }
    },
    {
      "cell_type": "markdown",
      "source": [
        "We'll finish setup by setting some variables for use in your application: the resource group, the name of ledger you want to create, and two urls to be used by the data plane client library."
      ],
      "metadata": {
        "nteract": {
          "transient": {
            "deleting": false
          }
        }
      }
    },
    {
      "cell_type": "code",
      "source": [
        "resource_group = \"azureailab01\"\r\n",
        "ledger_name = \"azureailab01\"\r\n",
        "subscription_id = \"82ed3e67-3850-491b-a098-cdca6aa71f3f\"\r\n",
        "\r\n",
        "identity_url = \"https://identity.confidential-ledger.core.azure.com\"\r\n",
        "ledger_url = \"https://\" + ledger_name + \".confidential-ledger.azure.com\""
      ],
      "outputs": [],
      "execution_count": null,
      "metadata": {
        "jupyter": {
          "source_hidden": false,
          "outputs_hidden": false
        },
        "nteract": {
          "transient": {
            "deleting": false
          }
        },
        "gather": {
          "logged": 1670574979516
        }
      }
    },
    {
      "cell_type": "markdown",
      "source": [
        "## Use the control plane library\r\n",
        "\r\n",
        "The control plane client library (azure.mgmt.confidentialledger) allows operations on ledgers, such as creation, modification, and deletion, listing the ledgers associated with a subscription, and getting the details of a specific ledger.\r\n",
        "\r\n",
        "In our code, we will first create a control plane client by passing the ConfidentialLedgerAPI the credential variable and your Azure subscription ID (both of which are set above)."
      ],
      "metadata": {
        "nteract": {
          "transient": {
            "deleting": false
          }
        }
      }
    },
    {
      "cell_type": "code",
      "source": [
        "confidential_ledger_mgmt = ConfidentialLedgerAPI(\r\n",
        "    credential, subscription_id\r\n",
        ")"
      ],
      "outputs": [],
      "execution_count": null,
      "metadata": {
        "jupyter": {
          "source_hidden": false,
          "outputs_hidden": false
        },
        "nteract": {
          "transient": {
            "deleting": false
          }
        },
        "gather": {
          "logged": 1670574985086
        }
      }
    },
    {
      "cell_type": "markdown",
      "source": [
        "We can now create a ledger using `begin_create`. The `begin_create` function requires three parameters: your resource group, a name for the ledger, and a \"properties\" object.\r\n",
        "\r\n",
        "Create a properties dictionary with the following keys and values, and assign it to a variable."
      ],
      "metadata": {
        "nteract": {
          "transient": {
            "deleting": false
          }
        }
      }
    },
    {
      "cell_type": "code",
      "source": [
        "properties = {\r\n",
        "    \"location\": \"eastus\",\r\n",
        "    \"tags\": {},\r\n",
        "    \"properties\": {\r\n",
        "        \"ledgerType\": \"Public\",\r\n",
        "        \"aadBasedSecurityPrincipals\": [],\r\n",
        "    },\r\n",
        "}\r\n",
        "\r\n",
        "ledger_properties = ConfidentialLedger(**properties)"
      ],
      "outputs": [],
      "execution_count": null,
      "metadata": {
        "jupyter": {
          "source_hidden": false,
          "outputs_hidden": false
        },
        "nteract": {
          "transient": {
            "deleting": false
          }
        },
        "gather": {
          "logged": 1670573761547
        }
      }
    },
    {
      "cell_type": "markdown",
      "source": [
        "Now pass the resource group, the name of your ledger, and the properties object to `begin_create`."
      ],
      "metadata": {
        "nteract": {
          "transient": {
            "deleting": false
          }
        }
      }
    },
    {
      "cell_type": "code",
      "source": [
        "confidential_ledger_mgmt.ledger.begin_create(resource_group, ledger_name, ledger_properties)"
      ],
      "outputs": [],
      "execution_count": null,
      "metadata": {
        "jupyter": {
          "source_hidden": false,
          "outputs_hidden": false
        },
        "nteract": {
          "transient": {
            "deleting": false
          }
        },
        "gather": {
          "logged": 1670573766997
        }
      }
    },
    {
      "cell_type": "markdown",
      "source": [
        "To verify that your ledger was successfully created, view its details using the `get` function."
      ],
      "metadata": {
        "nteract": {
          "transient": {
            "deleting": false
          }
        }
      }
    },
    {
      "cell_type": "code",
      "source": [
        "myledger = confidential_ledger_mgmt.ledger.get(resource_group, ledger_name)\r\n",
        "\r\n",
        "print(\"Here are the details of your newly created ledger:\")\r\n",
        "print (f\"- Name: {myledger.name}\")\r\n",
        "print (f\"- Location: {myledger.location}\")\r\n",
        "print (f\"- ID: {myledger.id}\")"
      ],
      "outputs": [],
      "execution_count": null,
      "metadata": {
        "jupyter": {
          "source_hidden": false,
          "outputs_hidden": false
        },
        "nteract": {
          "transient": {
            "deleting": false
          }
        },
        "gather": {
          "logged": 1670573927028
        }
      }
    },
    {
      "cell_type": "markdown",
      "source": [
        "Check some additional properties of the ledger."
      ],
      "metadata": {
        "nteract": {
          "transient": {
            "deleting": false
          }
        }
      }
    },
    {
      "cell_type": "code",
      "source": [
        "print(myledger.properties)"
      ],
      "outputs": [],
      "execution_count": null,
      "metadata": {
        "jupyter": {
          "source_hidden": false,
          "outputs_hidden": false
        },
        "nteract": {
          "transient": {
            "deleting": false
          }
        },
        "gather": {
          "logged": 1670573991987
        }
      }
    },
    {
      "cell_type": "markdown",
      "source": [
        "### Exercise:\r\n",
        "\r\n",
        "Open the Azure portal, locate the Azure item of type `Confidential Ledger` and explore its properties."
      ],
      "metadata": {
        "nteract": {
          "transient": {
            "deleting": false
          }
        }
      }
    },
    {
      "cell_type": "markdown",
      "source": [
        "## Use the data plane client library"
      ],
      "metadata": {
        "nteract": {
          "transient": {
            "deleting": false
          }
        }
      }
    },
    {
      "cell_type": "markdown",
      "source": [
        "Now that we have a ledger, we'll interact with it using the data plane client library (azure.confidentialledger).\r\n",
        "\r\n",
        "First, we will generate and save a confidential ledger certificate."
      ],
      "metadata": {
        "nteract": {
          "transient": {
            "deleting": false
          }
        }
      }
    },
    {
      "cell_type": "code",
      "source": [
        "identity_client = ConfidentialLedgerCertificateClient(identity_url)\r\n",
        "network_identity = identity_client.get_ledger_identity(\r\n",
        "     ledger_id=ledger_name\r\n",
        ")\r\n",
        "\r\n",
        "ledger_tls_cert_file_name = \"networkcert.pem\"\r\n",
        "with open(ledger_tls_cert_file_name, \"w\") as cert_file:\r\n",
        "    cert_file.write(network_identity['ledgerTlsCertificate'])"
      ],
      "outputs": [],
      "execution_count": null,
      "metadata": {
        "jupyter": {
          "source_hidden": false,
          "outputs_hidden": false
        },
        "nteract": {
          "transient": {
            "deleting": false
          }
        },
        "gather": {
          "logged": 1670574995679
        }
      }
    },
    {
      "cell_type": "markdown",
      "source": [
        "Now we can use the network certificate, along with the ledger URL and our credentials, to create a confidential ledger client."
      ],
      "metadata": {
        "nteract": {
          "transient": {
            "deleting": false
          }
        }
      }
    },
    {
      "cell_type": "code",
      "source": [
        "# credential = ManagedIdentityCredential()\r\n",
        "# credential = AzureCliCredential()\r\n",
        "credential = DefaultAzureCredential()"
      ],
      "outputs": [],
      "execution_count": null,
      "metadata": {
        "jupyter": {
          "source_hidden": false,
          "outputs_hidden": false
        },
        "nteract": {
          "transient": {
            "deleting": false
          }
        },
        "gather": {
          "logged": 1670578020285
        }
      }
    },
    {
      "cell_type": "code",
      "source": [
        "credential.get_token(ledger_url)"
      ],
      "outputs": [],
      "execution_count": null,
      "metadata": {
        "jupyter": {
          "source_hidden": false,
          "outputs_hidden": false
        },
        "nteract": {
          "transient": {
            "deleting": false
          }
        },
        "gather": {
          "logged": 1670578027971
        }
      }
    },
    {
      "cell_type": "code",
      "source": [
        "ledger_client = ConfidentialLedgerClient(\r\n",
        "     endpoint=ledger_url, \r\n",
        "     credential=credential,\r\n",
        "     ledger_certificate_path=ledger_tls_cert_file_name\r\n",
        ")"
      ],
      "outputs": [],
      "execution_count": null,
      "metadata": {
        "jupyter": {
          "source_hidden": false,
          "outputs_hidden": false
        },
        "nteract": {
          "transient": {
            "deleting": false
          }
        },
        "gather": {
          "logged": 1670578037198
        }
      }
    },
    {
      "cell_type": "markdown",
      "source": [
        "We are prepared to write to the ledger. We will do so using the `create_ledger_entry` function.\r\n",
        "\r\n",
        "The print function will return the transaction ID of your write to the ledger, which can be used to retrieve the message you wrote to the ledger."
      ],
      "metadata": {
        "nteract": {
          "transient": {
            "deleting": false
          }
        }
      }
    },
    {
      "cell_type": "code",
      "source": [
        "sample_entry = {\"contents\": \"Hellow immutable, blockchain-based world!\"}\r\n",
        "append_result = ledger_client.create_ledger_entry(entry=sample_entry)\r\n",
        "print(append_result['transactionId'])"
      ],
      "outputs": [],
      "execution_count": null,
      "metadata": {
        "jupyter": {
          "source_hidden": false,
          "outputs_hidden": false
        },
        "nteract": {
          "transient": {
            "deleting": false
          }
        },
        "gather": {
          "logged": 1670578049675
        }
      }
    }
  ],
  "metadata": {
    "language_info": {
      "name": "python",
      "version": "3.8.5",
      "mimetype": "text/x-python",
      "codemirror_mode": {
        "name": "ipython",
        "version": 3
      },
      "pygments_lexer": "ipython3",
      "nbconvert_exporter": "python",
      "file_extension": ".py"
    },
    "orig_nbformat": 4,
    "kernelspec": {
      "name": "python38-azureml",
      "language": "python",
      "display_name": "Python 3.8 - AzureML"
    },
    "kernel_info": {
      "name": "python38-azureml"
    },
    "microsoft": {
      "host": {
        "AzureML": {
          "notebookHasBeenCompleted": true
        }
      }
    },
    "nteract": {
      "version": "nteract-front-end@1.0.0"
    }
  },
  "nbformat": 4,
  "nbformat_minor": 2
}